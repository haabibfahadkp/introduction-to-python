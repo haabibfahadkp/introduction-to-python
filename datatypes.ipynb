{
  "nbformat": 4,
  "nbformat_minor": 0,
  "metadata": {
    "colab": {
      "provenance": [],
      "authorship_tag": "ABX9TyOU7ECXiznbls+TgB1+puYE",
      "include_colab_link": true
    },
    "kernelspec": {
      "name": "python3",
      "display_name": "Python 3"
    },
    "language_info": {
      "name": "python"
    }
  },
  "cells": [
    {
      "cell_type": "markdown",
      "metadata": {
        "id": "view-in-github",
        "colab_type": "text"
      },
      "source": [
        "<a href=\"https://colab.research.google.com/github/haabibfahadkp/introduction-to-python/blob/main/datatypes.ipynb\" target=\"_parent\"><img src=\"https://colab.research.google.com/assets/colab-badge.svg\" alt=\"Open In Colab\"/></a>"
      ]
    },
    {
      "cell_type": "code",
      "execution_count": 2,
      "metadata": {
        "id": "ZACFUXeR2L1Q"
      },
      "outputs": [],
      "source": [
        "num=10"
      ]
    },
    {
      "cell_type": "code",
      "source": [
        "type(num)"
      ],
      "metadata": {
        "colab": {
          "base_uri": "https://localhost:8080/"
        },
        "id": "FkD7vFZs3Guv",
        "outputId": "a0e0e2d2-3666-4691-c664-0e5a3f73908b"
      },
      "execution_count": 3,
      "outputs": [
        {
          "output_type": "execute_result",
          "data": {
            "text/plain": [
              "int"
            ]
          },
          "metadata": {},
          "execution_count": 3
        }
      ]
    },
    {
      "cell_type": "code",
      "source": [
        "num=10.5"
      ],
      "metadata": {
        "id": "YU2Opg0A3JYz"
      },
      "execution_count": 4,
      "outputs": []
    },
    {
      "cell_type": "code",
      "source": [
        "type(num)"
      ],
      "metadata": {
        "colab": {
          "base_uri": "https://localhost:8080/"
        },
        "id": "FfjzgMhW3VNF",
        "outputId": "64c39bf4-f867-4676-fcf0-19238c11aa43"
      },
      "execution_count": 5,
      "outputs": [
        {
          "output_type": "execute_result",
          "data": {
            "text/plain": [
              "float"
            ]
          },
          "metadata": {},
          "execution_count": 5
        }
      ]
    },
    {
      "cell_type": "code",
      "source": [
        "x=10\n",
        "y=10.5\n",
        "z=x+y\n",
        "print(z)"
      ],
      "metadata": {
        "colab": {
          "base_uri": "https://localhost:8080/"
        },
        "id": "hKbXxBJP3W8E",
        "outputId": "53bbd7ef-0e28-4ac6-c3e5-2f034b56a7d1"
      },
      "execution_count": 7,
      "outputs": [
        {
          "output_type": "stream",
          "name": "stdout",
          "text": [
            "20.5\n"
          ]
        }
      ]
    },
    {
      "cell_type": "code",
      "source": [
        "type(z)"
      ],
      "metadata": {
        "colab": {
          "base_uri": "https://localhost:8080/"
        },
        "id": "FNRIu7nw3k4X",
        "outputId": "c72a6011-0195-4362-c923-ca3b9edee705"
      },
      "execution_count": 8,
      "outputs": [
        {
          "output_type": "execute_result",
          "data": {
            "text/plain": [
              "float"
            ]
          },
          "metadata": {},
          "execution_count": 8
        }
      ]
    },
    {
      "cell_type": "code",
      "source": [
        "c=10+0.5j"
      ],
      "metadata": {
        "id": "ztIAGBuG3yXP"
      },
      "execution_count": 9,
      "outputs": []
    },
    {
      "cell_type": "code",
      "source": [
        "type(c)"
      ],
      "metadata": {
        "colab": {
          "base_uri": "https://localhost:8080/"
        },
        "id": "F2_mOwSq4K6Q",
        "outputId": "36e6963f-4c4c-45b6-edfc-e51297b8979c"
      },
      "execution_count": 10,
      "outputs": [
        {
          "output_type": "execute_result",
          "data": {
            "text/plain": [
              "complex"
            ]
          },
          "metadata": {},
          "execution_count": 10
        }
      ]
    },
    {
      "cell_type": "code",
      "source": [
        "name=\"fahad\""
      ],
      "metadata": {
        "id": "LrANq3s74Mtg"
      },
      "execution_count": 11,
      "outputs": []
    },
    {
      "cell_type": "code",
      "source": [
        "type(name)"
      ],
      "metadata": {
        "colab": {
          "base_uri": "https://localhost:8080/"
        },
        "id": "pTyr6iAn4ZBZ",
        "outputId": "f5467a55-bc0e-4508-d41d-45c6662de665"
      },
      "execution_count": 12,
      "outputs": [
        {
          "output_type": "execute_result",
          "data": {
            "text/plain": [
              "str"
            ]
          },
          "metadata": {},
          "execution_count": 12
        }
      ]
    },
    {
      "cell_type": "code",
      "source": [
        "x=\"i am studing in rajagiri\"\n",
        "type(x)"
      ],
      "metadata": {
        "colab": {
          "base_uri": "https://localhost:8080/"
        },
        "id": "33aOU_YW4bZR",
        "outputId": "60a9af74-5f24-4a2c-f6e9-1cebd151dc11"
      },
      "execution_count": 14,
      "outputs": [
        {
          "output_type": "execute_result",
          "data": {
            "text/plain": [
              "str"
            ]
          },
          "metadata": {},
          "execution_count": 14
        }
      ]
    },
    {
      "cell_type": "code",
      "source": [
        "frnds=[\"kunji\",\"jikku\",\"rajeesh\"]\n",
        "type(frnds)"
      ],
      "metadata": {
        "colab": {
          "base_uri": "https://localhost:8080/"
        },
        "id": "hv_m5adN4wyZ",
        "outputId": "fc4edc6b-8ccb-4fe7-e7e7-08ad8948336f"
      },
      "execution_count": 16,
      "outputs": [
        {
          "output_type": "execute_result",
          "data": {
            "text/plain": [
              "tuple"
            ]
          },
          "metadata": {},
          "execution_count": 16
        }
      ]
    },
    {
      "cell_type": "code",
      "source": [
        "print(frnds)"
      ],
      "metadata": {
        "colab": {
          "base_uri": "https://localhost:8080/"
        },
        "id": "sCD5UBaV5VAX",
        "outputId": "670f20d3-c5ac-4cd8-df48-a379ec75d24b"
      },
      "execution_count": 17,
      "outputs": [
        {
          "output_type": "stream",
          "name": "stdout",
          "text": [
            "('kunji', 'jikku', 'rajeesh')\n"
          ]
        }
      ]
    },
    {
      "cell_type": "code",
      "source": [
        "print(frnds[1])"
      ],
      "metadata": {
        "colab": {
          "base_uri": "https://localhost:8080/"
        },
        "id": "6ipSCBUO6NJ8",
        "outputId": "2a9dd8a3-0f95-4007-d5bf-b425e8bd763c"
      },
      "execution_count": 18,
      "outputs": [
        {
          "output_type": "stream",
          "name": "stdout",
          "text": [
            "jikku\n"
          ]
        }
      ]
    },
    {
      "cell_type": "code",
      "source": [
        "print(frnds[0])"
      ],
      "metadata": {
        "colab": {
          "base_uri": "https://localhost:8080/"
        },
        "id": "LeTP_63P6VkC",
        "outputId": "62e29c88-947c-4239-f944-a8ff616582b4"
      },
      "execution_count": 19,
      "outputs": [
        {
          "output_type": "stream",
          "name": "stdout",
          "text": [
            "kunji\n"
          ]
        }
      ]
    },
    {
      "cell_type": "code",
      "source": [
        "print(frnds[-1])"
      ],
      "metadata": {
        "colab": {
          "base_uri": "https://localhost:8080/"
        },
        "id": "hqL-aDa16u38",
        "outputId": "9f920a8c-ae1c-4427-e59d-253e3b2267ab"
      },
      "execution_count": 20,
      "outputs": [
        {
          "output_type": "stream",
          "name": "stdout",
          "text": [
            "rajeesh\n"
          ]
        }
      ]
    },
    {
      "cell_type": "code",
      "source": [
        "frnd=[\"kunjii\",\"maria\",\"ovelil\"]\n",
        "frnd.pop(-1)\n"
      ],
      "metadata": {
        "colab": {
          "base_uri": "https://localhost:8080/",
          "height": 35
        },
        "id": "NyrNkda563R8",
        "outputId": "e9991bcf-b3bc-4959-c176-31177ef983ca"
      },
      "execution_count": 26,
      "outputs": [
        {
          "output_type": "execute_result",
          "data": {
            "text/plain": [
              "'ovelil'"
            ],
            "application/vnd.google.colaboratory.intrinsic+json": {
              "type": "string"
            }
          },
          "metadata": {},
          "execution_count": 26
        }
      ]
    },
    {
      "cell_type": "code",
      "source": [
        "frnd=[\"kunjii\",\"maria\",\"ovelil\"]\n",
        "frnd.append(\"kozhi\")"
      ],
      "metadata": {
        "id": "E5n6_LKOBQUX"
      },
      "execution_count": 31,
      "outputs": []
    },
    {
      "cell_type": "code",
      "source": [
        "print(frnd)"
      ],
      "metadata": {
        "colab": {
          "base_uri": "https://localhost:8080/"
        },
        "id": "RKP16ren8ZFf",
        "outputId": "247c9d11-730d-4f33-c139-914b5e18a945"
      },
      "execution_count": 25,
      "outputs": [
        {
          "output_type": "stream",
          "name": "stdout",
          "text": [
            "['kunjii', 'maria']\n"
          ]
        }
      ]
    },
    {
      "cell_type": "code",
      "source": [
        "print(frnd)"
      ],
      "metadata": {
        "colab": {
          "base_uri": "https://localhost:8080/"
        },
        "id": "0_obxOnJBUyH",
        "outputId": "2238b879-25bc-4c04-b4f7-b29111d1e3dd"
      },
      "execution_count": 33,
      "outputs": [
        {
          "output_type": "stream",
          "name": "stdout",
          "text": [
            "['kunjii', 'maria', 'ovelil', 'kozhi']\n"
          ]
        }
      ]
    },
    {
      "cell_type": "code",
      "source": [
        "frnd=[\"kunjii\",\"ovelil\",\"miyaz\"]\n",
        "frnd.sort()"
      ],
      "metadata": {
        "id": "MqFRPvz29jmN"
      },
      "execution_count": 27,
      "outputs": []
    },
    {
      "cell_type": "code",
      "source": [
        "print(frnd)"
      ],
      "metadata": {
        "colab": {
          "base_uri": "https://localhost:8080/"
        },
        "id": "_CSTdFeuAi8H",
        "outputId": "0c1327e3-904b-4130-b64c-308daaac4ca6"
      },
      "execution_count": 28,
      "outputs": [
        {
          "output_type": "stream",
          "name": "stdout",
          "text": [
            "['kunjii', 'miyaz', 'ovelil']\n"
          ]
        }
      ]
    },
    {
      "cell_type": "code",
      "source": [
        "frnd.reverse()"
      ],
      "metadata": {
        "id": "elWzrIU9AluX"
      },
      "execution_count": 29,
      "outputs": []
    },
    {
      "cell_type": "code",
      "source": [
        "print(frnd)"
      ],
      "metadata": {
        "colab": {
          "base_uri": "https://localhost:8080/"
        },
        "id": "QeSNQkbyAwvL",
        "outputId": "f7c78beb-bb6b-4054-b248-db705c768ef8"
      },
      "execution_count": 30,
      "outputs": [
        {
          "output_type": "stream",
          "name": "stdout",
          "text": [
            "['ovelil', 'miyaz', 'kunjii']\n"
          ]
        }
      ]
    },
    {
      "cell_type": "code",
      "source": [
        "frnd.insert(2,\"miyaz\")"
      ],
      "metadata": {
        "id": "Uy3S0UqgAz3T"
      },
      "execution_count": 35,
      "outputs": []
    },
    {
      "cell_type": "code",
      "source": [
        "print(frnd)"
      ],
      "metadata": {
        "colab": {
          "base_uri": "https://localhost:8080/"
        },
        "id": "vmhcgev2Bjer",
        "outputId": "92726dca-9c35-4b7e-c802-b4d5516ab726"
      },
      "execution_count": 36,
      "outputs": [
        {
          "output_type": "stream",
          "name": "stdout",
          "text": [
            "['kunjii', 'maria', 'miyaz', 'gff', 'ovelil', 'kozhi']\n"
          ]
        }
      ]
    },
    {
      "cell_type": "code",
      "source": [
        "a=(\"kmr\",\"nil\",\"pdj\",\"koot\")\n",
        "b=(\"edpl\",\"kut\",\"mes\")\n",
        "print(a+b)"
      ],
      "metadata": {
        "colab": {
          "base_uri": "https://localhost:8080/"
        },
        "id": "sLgry2PQBr92",
        "outputId": "7e42df6a-b6a6-4d09-b363-d4b875e113b7"
      },
      "execution_count": 38,
      "outputs": [
        {
          "output_type": "stream",
          "name": "stdout",
          "text": [
            "('kmr', 'nil', 'pdj', 'koot', 'edpl', 'kut', 'mes')\n"
          ]
        }
      ]
    },
    {
      "cell_type": "code",
      "source": [
        "mark=[10,20,20,30,40]\n",
        "z=(mark)\n",
        "print(z[1])"
      ],
      "metadata": {
        "colab": {
          "base_uri": "https://localhost:8080/"
        },
        "id": "69tStjIFCmTb",
        "outputId": "ae15a64c-c545-447c-e5b0-39d620e22c5a"
      },
      "execution_count": 40,
      "outputs": [
        {
          "output_type": "stream",
          "name": "stdout",
          "text": [
            "20\n"
          ]
        }
      ]
    },
    {
      "cell_type": "code",
      "source": [
        "h={10,10,20,30,40}\n",
        "type(h)"
      ],
      "metadata": {
        "colab": {
          "base_uri": "https://localhost:8080/"
        },
        "id": "GWJ6kJDMGdbQ",
        "outputId": "ac1ed607-10c4-41e6-877e-2f3028413b98"
      },
      "execution_count": 41,
      "outputs": [
        {
          "output_type": "execute_result",
          "data": {
            "text/plain": [
              "set"
            ]
          },
          "metadata": {},
          "execution_count": 41
        }
      ]
    },
    {
      "cell_type": "code",
      "source": [
        "det={'name':'fahad','phone num':'9946969747','fav colour':'black'}\n",
        "det['year']=2004\n",
        "print(det)"
      ],
      "metadata": {
        "colab": {
          "base_uri": "https://localhost:8080/"
        },
        "id": "i3niro55Ho_M",
        "outputId": "6e288c0c-8bb2-423a-8f82-1f77cf74d5a2"
      },
      "execution_count": 44,
      "outputs": [
        {
          "output_type": "stream",
          "name": "stdout",
          "text": [
            "{'name': 'fahad', 'phone num': '9946969747', 'fav colour': 'black', 'year': 2004}\n"
          ]
        }
      ]
    },
    {
      "cell_type": "code",
      "source": [
        "def add(x,y):\n",
        "  return(x+y)\n",
        "add(2,3)"
      ],
      "metadata": {
        "colab": {
          "base_uri": "https://localhost:8080/"
        },
        "id": "iO_Qemj_JffJ",
        "outputId": "bd0041e1-81a9-4d9e-e2d3-5e847aa612bf"
      },
      "execution_count": 45,
      "outputs": [
        {
          "output_type": "execute_result",
          "data": {
            "text/plain": [
              "5"
            ]
          },
          "metadata": {},
          "execution_count": 45
        }
      ]
    },
    {
      "cell_type": "code",
      "source": [
        "def product(x,y,z):\n",
        "  return(x*y*z)\n",
        "product(2,3,4)"
      ],
      "metadata": {
        "colab": {
          "base_uri": "https://localhost:8080/"
        },
        "id": "jz9vZ35ALLEX",
        "outputId": "64fcf4d3-fb64-4bba-9f3c-da81b5a7844b"
      },
      "execution_count": 46,
      "outputs": [
        {
          "output_type": "execute_result",
          "data": {
            "text/plain": [
              "24"
            ]
          },
          "metadata": {},
          "execution_count": 46
        }
      ]
    },
    {
      "cell_type": "code",
      "source": [],
      "metadata": {
        "id": "KhDVTrTuMkus"
      },
      "execution_count": null,
      "outputs": []
    }
  ]
}