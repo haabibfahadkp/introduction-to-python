{
  "nbformat": 4,
  "nbformat_minor": 0,
  "metadata": {
    "colab": {
      "provenance": [],
      "authorship_tag": "ABX9TyOjVBs3xfCl3KTUG1EwJsq0",
      "include_colab_link": true
    },
    "kernelspec": {
      "name": "python3",
      "display_name": "Python 3"
    },
    "language_info": {
      "name": "python"
    }
  },
  "cells": [
    {
      "cell_type": "markdown",
      "metadata": {
        "id": "view-in-github",
        "colab_type": "text"
      },
      "source": [
        "<a href=\"https://colab.research.google.com/github/haabibfahadkp/introduction-to-python/blob/main/function.ipynb\" target=\"_parent\"><img src=\"https://colab.research.google.com/assets/colab-badge.svg\" alt=\"Open In Colab\"/></a>"
      ]
    },
    {
      "cell_type": "code",
      "execution_count": null,
      "metadata": {
        "colab": {
          "base_uri": "https://localhost:8080/"
        },
        "id": "7oNYct6bz9Tr",
        "outputId": "572183b2-e28b-4be5-f6ed-ba2664829f45"
      },
      "outputs": [
        {
          "output_type": "stream",
          "name": "stdout",
          "text": [
            "enter the salary200000\n",
            "not taxable\n"
          ]
        }
      ],
      "source": [
        "def fhd(salary):\n",
        "  if salary>250000:\n",
        "    print(\"taxable\")\n",
        "  else:\n",
        "    print(\"not taxable\")\n",
        "x=int(input(\"enter the salary\"))\n",
        "sal(x)"
      ]
    },
    {
      "cell_type": "code",
      "source": [
        "def fhd(x):\n",
        "  k=0\n",
        "  for i in range(x):\n",
        "    k=k+i\n",
        "    print(k)\n",
        "x=int(input(\"enter number\"))\n",
        "fhd(x)"
      ],
      "metadata": {
        "id": "enqs6rse0cjE",
        "colab": {
          "base_uri": "https://localhost:8080/"
        },
        "outputId": "2d6f26a7-ca4c-4c84-e03d-f47bde19dbba"
      },
      "execution_count": 5,
      "outputs": [
        {
          "output_type": "stream",
          "name": "stdout",
          "text": [
            "enter number5\n",
            "0\n",
            "1\n",
            "3\n",
            "6\n",
            "10\n"
          ]
        }
      ]
    },
    {
      "cell_type": "code",
      "source": [
        "def add(x,y):\n",
        "  print(x+y)\n",
        "def sub(x,y):\n",
        "  print(x-y)\n",
        "def multi(x,y):\n",
        "  print(x*y)\n",
        "def div(x,y):\n",
        "  print(x/y)\n",
        "x=int(input(\"enter the number\"))\n",
        "y=int(input(\"enter the number\"))\n",
        "add(x,y)\n",
        "sub(x,y)\n",
        "multi(x,y)\n",
        "div(x,y)"
      ],
      "metadata": {
        "colab": {
          "base_uri": "https://localhost:8080/"
        },
        "id": "JJTjE7Gf6xS3",
        "outputId": "3bf67f9e-5d4a-4ea8-fc61-d997dd909e89"
      },
      "execution_count": 11,
      "outputs": [
        {
          "output_type": "stream",
          "name": "stdout",
          "text": [
            "enter the number5\n",
            "enter the number10\n",
            "15\n",
            "-5\n",
            "50\n",
            "0.5\n"
          ]
        }
      ]
    },
    {
      "cell_type": "code",
      "source": [],
      "metadata": {
        "id": "BzI_TgmK93ve"
      },
      "execution_count": 10,
      "outputs": []
    }
  ]
}