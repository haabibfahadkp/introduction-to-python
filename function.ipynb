{
  "nbformat": 4,
  "nbformat_minor": 0,
  "metadata": {
    "colab": {
      "provenance": [],
      "authorship_tag": "ABX9TyMGdo8ZN560Zd1gDTU0zx4P",
      "include_colab_link": true
    },
    "kernelspec": {
      "name": "python3",
      "display_name": "Python 3"
    },
    "language_info": {
      "name": "python"
    }
  },
  "cells": [
    {
      "cell_type": "markdown",
      "metadata": {
        "id": "view-in-github",
        "colab_type": "text"
      },
      "source": [
        "<a href=\"https://colab.research.google.com/github/haabibfahadkp/introduction-to-python/blob/main/function.ipynb\" target=\"_parent\"><img src=\"https://colab.research.google.com/assets/colab-badge.svg\" alt=\"Open In Colab\"/></a>"
      ]
    },
    {
      "cell_type": "code",
      "execution_count": 2,
      "metadata": {
        "colab": {
          "base_uri": "https://localhost:8080/"
        },
        "id": "Sa3LIQPxsnIF",
        "outputId": "85f4bdb4-b191-4ffe-fd95-ea719576f965"
      },
      "outputs": [
        {
          "output_type": "stream",
          "name": "stdout",
          "text": [
            "fifa world cup 2022\n"
          ]
        }
      ],
      "source": [
        "def fhd():\n",
        "  print(\"fifa world cup 2022\")\n",
        "fhd()"
      ]
    },
    {
      "cell_type": "code",
      "source": [
        "def fhd(a,b,c):\n",
        "  print(a,b,c)\n",
        "fhd('haabib','fahad','kp')\n",
        "\n",
        " "
      ],
      "metadata": {
        "colab": {
          "base_uri": "https://localhost:8080/"
        },
        "id": "BlLPgUawvFeZ",
        "outputId": "3c823a4b-9bf0-4c41-c56e-cfb4e46ce1f9"
      },
      "execution_count": 7,
      "outputs": [
        {
          "output_type": "stream",
          "name": "stdout",
          "text": [
            "haabib fahad kp\n"
          ]
        }
      ]
    },
    {
      "cell_type": "code",
      "source": [
        "def fhd(*x):\n",
        "  print('the first favorite football player: ',x[2])\n",
        "\n",
        "fhd('Messi','Ronaldo','Neymar')"
      ],
      "metadata": {
        "colab": {
          "base_uri": "https://localhost:8080/"
        },
        "id": "WEVjBR6B0Rq3",
        "outputId": "a802fcdf-fe14-4a46-ec51-bea03d2d775a"
      },
      "execution_count": 10,
      "outputs": [
        {
          "output_type": "stream",
          "name": "stdout",
          "text": [
            "the first favorite football player:  Neymar\n"
          ]
        }
      ]
    },
    {
      "cell_type": "code",
      "source": [
        "def fact(n):\n",
        "  if n<=1:\n",
        "    return n\n",
        "  else:\n",
        "    return(fact(n-1)*n)\n",
        "print(fact(10))"
      ],
      "metadata": {
        "colab": {
          "base_uri": "https://localhost:8080/"
        },
        "id": "p_6rn4Qv2v8n",
        "outputId": "dc4c9703-7130-4eca-c099-b0d828bd961c"
      },
      "execution_count": 13,
      "outputs": [
        {
          "output_type": "stream",
          "name": "stdout",
          "text": [
            "3628800\n"
          ]
        }
      ]
    },
    {
      "cell_type": "code",
      "source": [],
      "metadata": {
        "id": "FZtNdStt7Ppz"
      },
      "execution_count": null,
      "outputs": []
    }
  ]
}