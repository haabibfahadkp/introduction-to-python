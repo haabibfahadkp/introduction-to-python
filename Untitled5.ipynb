{
  "nbformat": 4,
  "nbformat_minor": 0,
  "metadata": {
    "colab": {
      "provenance": [],
      "authorship_tag": "ABX9TyMDaurmtGwUxskcZHO+ecXW",
      "include_colab_link": true
    },
    "kernelspec": {
      "name": "python3",
      "display_name": "Python 3"
    },
    "language_info": {
      "name": "python"
    }
  },
  "cells": [
    {
      "cell_type": "markdown",
      "metadata": {
        "id": "view-in-github",
        "colab_type": "text"
      },
      "source": [
        "<a href=\"https://colab.research.google.com/github/haabibfahadkp/introduction-to-python/blob/main/Untitled5.ipynb\" target=\"_parent\"><img src=\"https://colab.research.google.com/assets/colab-badge.svg\" alt=\"Open In Colab\"/></a>"
      ]
    },
    {
      "cell_type": "code",
      "execution_count": 2,
      "metadata": {
        "colab": {
          "base_uri": "https://localhost:8080/"
        },
        "id": "erpIawSkodsW",
        "outputId": "3a04649f-1eb5-44e5-b86b-da43224fb12e"
      },
      "outputs": [
        {
          "output_type": "stream",
          "name": "stdout",
          "text": [
            " enter the name of vehicle innova\n",
            " enter travel destination ooty\n",
            " enter number of passengers 5\n",
            " vehicle:  innova\n",
            " destination  ooty\n",
            " number of passengers  5\n"
          ]
        }
      ],
      "source": [
        "p=input(\" enter the name of vehicle \")\n",
        "x=input(\" enter travel destination \")\n",
        "y=int(input(\" enter number of passengers \"))\n",
        "print(\" vehicle: \",p)\n",
        "print(\" destination \",x)\n",
        "print(\" number of passengers \",y)\n"
      ]
    },
    {
      "cell_type": "code",
      "source": [
        "x=int(input(\" enter the total amount of ticket sold \"))\n",
        "y=int(input(\" enter the number of passengers \"))\n",
        "z=(x/y)\n",
        "print(\" ptice of a ticket \",z)"
      ],
      "metadata": {
        "colab": {
          "base_uri": "https://localhost:8080/"
        },
        "id": "SSEVP9WhpkTa",
        "outputId": "ee4568d2-4e5e-4c62-b016-c99f7e10e7ad"
      },
      "execution_count": 5,
      "outputs": [
        {
          "output_type": "stream",
          "name": "stdout",
          "text": [
            " enter the total amount of ticket sold 5000\n",
            " enter the number of passengers 10\n",
            " ptice of a ticket  500.0\n"
          ]
        }
      ]
    },
    {
      "cell_type": "code",
      "source": [
        "x=input(\" enter the name of passenger \")\n",
        "y=input(\" enter the price \")\n",
        "print(\"details:\",x,y)"
      ],
      "metadata": {
        "colab": {
          "base_uri": "https://localhost:8080/"
        },
        "id": "KlndqqUqrwcr",
        "outputId": "49426dda-9561-44ac-9f94-ee87db268e19"
      },
      "execution_count": 7,
      "outputs": [
        {
          "output_type": "stream",
          "name": "stdout",
          "text": [
            " enter the name of passenger fahad\n",
            " enter the price 120\n",
            "details: fahad 120\n"
          ]
        }
      ]
    },
    {
      "cell_type": "code",
      "source": [
        "x=int(input(\" enter the total ticket price \"))\n",
        "if x>10000:\n",
        "  print(\"eligible for discount\")\n",
        "else:\n",
        "  print(\" not eligible for discount \")"
      ],
      "metadata": {
        "colab": {
          "base_uri": "https://localhost:8080/"
        },
        "id": "nb5NCttHs7RW",
        "outputId": "6b0b133a-dee6-47b8-eb6d-efc0a967247f"
      },
      "execution_count": 9,
      "outputs": [
        {
          "output_type": "stream",
          "name": "stdout",
          "text": [
            " enter the total ticket price 4000\n",
            " not eligible for discount \n"
          ]
        }
      ]
    },
    {
      "cell_type": "code",
      "source": [
        "x=int(input(\" enter the total ticket price \"))\n",
        "if x>15000:\n",
        "  print(\"eligible for 20% percent discount\")\n",
        "else:\n",
        "  print(\"eligible for 10% percent\")"
      ],
      "metadata": {
        "colab": {
          "base_uri": "https://localhost:8080/"
        },
        "id": "exy4w5eRvHc9",
        "outputId": "32684c77-ed4b-466b-ba9c-ff00d78c4f05"
      },
      "execution_count": 11,
      "outputs": [
        {
          "output_type": "stream",
          "name": "stdout",
          "text": [
            " enter the total ticket price 7000\n",
            "eligible for 10% percent\n"
          ]
        }
      ]
    },
    {
      "cell_type": "code",
      "source": [
        "x=int(input(\" enter the total ticket price \"))\n",
        "if x>15000:\n",
        "  print(\" total discount is \",x*20/100)\n",
        "elif x>10000:\n",
        "  print(\" total discount is \",x*10/100)\n",
        "else:\n",
        "  print(\" total discount is \",x*5/100)"
      ],
      "metadata": {
        "colab": {
          "base_uri": "https://localhost:8080/"
        },
        "id": "-2bzhnZXv63d",
        "outputId": "a62240b5-aab7-4a43-824e-777284c907d1"
      },
      "execution_count": 15,
      "outputs": [
        {
          "output_type": "stream",
          "name": "stdout",
          "text": [
            " enter the total ticket price 16000\n",
            " total discount is  3200.0\n"
          ]
        }
      ]
    },
    {
      "cell_type": "code",
      "source": [
        "x=int(input(\" enter the number \"))\n",
        "if x==0:\n",
        "  print(\" the number is zero \")\n",
        "elif x>0:\n",
        "  print(\" the number is positive \")\n",
        "else:\n",
        "  print(\" the number is negative \")"
      ],
      "metadata": {
        "colab": {
          "base_uri": "https://localhost:8080/"
        },
        "id": "Ae3k7OdJxUmw",
        "outputId": "547568af-3afc-4efd-c00d-1a6f613c625d"
      },
      "execution_count": 18,
      "outputs": [
        {
          "output_type": "stream",
          "name": "stdout",
          "text": [
            " enter the number 20\n",
            " the number is positive \n"
          ]
        }
      ]
    },
    {
      "cell_type": "code",
      "source": [
        "x=int(input(\" enter the age \"))\n",
        "if x>18:\n",
        "  print(\" you are adult \")\n",
        "if x>13 and x<18:\n",
        "  print(\"teenager\")\n",
        "if x>6 and x<12:\n",
        "  print(\"kid\")\n",
        "if x>2 and x<5:\n",
        "  print(\"toddler\")\n",
        "elif x<2:\n",
        "  print(\"infant\")"
      ],
      "metadata": {
        "colab": {
          "base_uri": "https://localhost:8080/"
        },
        "id": "vNHvi6Wi0DsH",
        "outputId": "a0ff2c2a-ab79-48c0-ab85-546fcb57505f"
      },
      "execution_count": 21,
      "outputs": [
        {
          "output_type": "stream",
          "name": "stdout",
          "text": [
            " enter the age 4\n",
            "toddler\n"
          ]
        }
      ]
    },
    {
      "cell_type": "code",
      "source": [
        "x=input(\" enter the initial \")\n",
        "if x==\"a\":\n",
        "  print(\"its a vowel\")\n",
        "elif x==\"e\":\n",
        "  print(\"its a vowel\")\n",
        "elif x==\"i\":\n",
        "  print(\"its a vowel\")\n",
        "elif x==\"o\":\n",
        "  print(\"its a vowel\")\n",
        "elif x==\"u\":\n",
        "  print(\"its a vowel\")\n",
        "else:\n",
        "  print(\"its not a vowel\")"
      ],
      "metadata": {
        "colab": {
          "base_uri": "https://localhost:8080/"
        },
        "id": "0APgCXAk26aO",
        "outputId": "3fe0d2d8-f20b-4a16-ed37-328a5658b727"
      },
      "execution_count": 30,
      "outputs": [
        {
          "output_type": "stream",
          "name": "stdout",
          "text": [
            " enter the initial w\n",
            "its not a vowel\n"
          ]
        }
      ]
    },
    {
      "cell_type": "code",
      "source": [
        "x=int(input(\"Enter Starting Value \"))\n",
        "y=int(input(\"Enter Ending Value \"))\n",
        "z=range(x,y)\n",
        "for a in z:\n",
        "  if a%2!=0 :\n",
        "    print(a)"
      ],
      "metadata": {
        "colab": {
          "base_uri": "https://localhost:8080/"
        },
        "id": "0rsWNnEB3wUm",
        "outputId": "9dddb6e3-37d1-45fc-fdb1-8aad8ddd9604"
      },
      "execution_count": 31,
      "outputs": [
        {
          "output_type": "stream",
          "name": "stdout",
          "text": [
            "Enter Starting Value 10\n",
            "Enter Ending Value 20\n",
            "11\n",
            "13\n",
            "15\n",
            "17\n",
            "19\n"
          ]
        }
      ]
    },
    {
      "cell_type": "code",
      "source": [
        "x=input(\"enter your name\")\n",
        "for a in x:\n",
        "  print(a)\n"
      ],
      "metadata": {
        "colab": {
          "base_uri": "https://localhost:8080/"
        },
        "id": "0_AalSRI8Wuz",
        "outputId": "49f934b1-d25d-4d10-96fb-a08c37b15648"
      },
      "execution_count": 32,
      "outputs": [
        {
          "output_type": "stream",
          "name": "stdout",
          "text": [
            "enter your namefahad\n",
            "f\n",
            "a\n",
            "h\n",
            "a\n",
            "d\n"
          ]
        }
      ]
    },
    {
      "cell_type": "code",
      "source": [],
      "metadata": {
        "id": "RPJ_W7mC-soT"
      },
      "execution_count": null,
      "outputs": []
    }
  ]
}