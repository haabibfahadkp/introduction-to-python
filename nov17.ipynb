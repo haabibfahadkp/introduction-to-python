{
  "nbformat": 4,
  "nbformat_minor": 0,
  "metadata": {
    "colab": {
      "provenance": [],
      "authorship_tag": "ABX9TyMl8M9q/4xsVVzKk+4NEJmZ",
      "include_colab_link": true
    },
    "kernelspec": {
      "name": "python3",
      "display_name": "Python 3"
    },
    "language_info": {
      "name": "python"
    }
  },
  "cells": [
    {
      "cell_type": "markdown",
      "metadata": {
        "id": "view-in-github",
        "colab_type": "text"
      },
      "source": [
        "<a href=\"https://colab.research.google.com/github/haabibfahadkp/introduction-to-python/blob/main/nov17.ipynb\" target=\"_parent\"><img src=\"https://colab.research.google.com/assets/colab-badge.svg\" alt=\"Open In Colab\"/></a>"
      ]
    },
    {
      "cell_type": "code",
      "execution_count": 4,
      "metadata": {
        "colab": {
          "base_uri": "https://localhost:8080/"
        },
        "id": "5f-RUizktVJ6",
        "outputId": "ac16f924-5c17-47d8-d50c-af876ef6609a"
      },
      "outputs": [
        {
          "output_type": "stream",
          "name": "stdout",
          "text": [
            "enter the number4\n",
            "1 * 4 = 4\n",
            "2 * 4 = 8\n",
            "3 * 4 = 12\n",
            "4 * 4 = 16\n",
            "5 * 4 = 20\n",
            "6 * 4 = 24\n",
            "7 * 4 = 28\n",
            "8 * 4 = 32\n",
            "9 * 4 = 36\n",
            "10 * 4 = 40\n"
          ]
        }
      ],
      "source": [
        "x=int(input(\"enter the number\"))\n",
        "for i in range(1,11):\n",
        "  print(i,\"*\",x,\"=\",i*x)"
      ]
    },
    {
      "cell_type": "code",
      "source": [
        "num=int(input())\n",
        "i=1\n",
        "while(i<=10):\n",
        "  print(i*num)\n",
        "  i=i+1"
      ],
      "metadata": {
        "colab": {
          "base_uri": "https://localhost:8080/"
        },
        "id": "liFRZ2ertwgL",
        "outputId": "90744947-4f2e-43b7-ba26-ce78c509bcae"
      },
      "execution_count": 5,
      "outputs": [
        {
          "output_type": "stream",
          "name": "stdout",
          "text": [
            "4\n",
            "4\n",
            "8\n",
            "12\n",
            "16\n",
            "20\n",
            "24\n",
            "28\n",
            "32\n",
            "36\n",
            "40\n"
          ]
        }
      ]
    },
    {
      "cell_type": "code",
      "source": [
        "x=input(\" enter the number \")\n",
        "d=0\n",
        "for i in x:\n",
        "  #print(i)\n",
        "  d=d+1\n",
        "print(d)"
      ],
      "metadata": {
        "colab": {
          "base_uri": "https://localhost:8080/"
        },
        "id": "VDFWZY56yesL",
        "outputId": "866b3943-2d1c-4697-f88d-bb4c78765303"
      },
      "execution_count": 9,
      "outputs": [
        {
          "output_type": "stream",
          "name": "stdout",
          "text": [
            " enter the number 5007\n",
            "4\n"
          ]
        }
      ]
    },
    {
      "cell_type": "code",
      "source": [
        "x=input(\" enter a name \")\n",
        "x=x.replace('a','x')\n",
        "print(x)"
      ],
      "metadata": {
        "colab": {
          "base_uri": "https://localhost:8080/"
        },
        "id": "Fibx0-Co3gE4",
        "outputId": "cfbb5cb0-e24c-40c7-9403-4952e5c4a244"
      },
      "execution_count": 12,
      "outputs": [
        {
          "output_type": "stream",
          "name": "stdout",
          "text": [
            " enter a name fahad\n",
            "fxhxd\n"
          ]
        }
      ]
    },
    {
      "cell_type": "code",
      "source": [
        "string=input((\"enter string: \"))\n",
        "reversestring= \"\"\n",
        "for i in string:\n",
        "    reversestring = i + reversestring\n",
        "print(\"reverse string: \",reversestring)      \n",
        "if (string == reversestring):\n",
        "    print(\"the string is palindrome\")\n",
        "else:\n",
        "    print(\"the string is not palindrome\")"
      ],
      "metadata": {
        "colab": {
          "base_uri": "https://localhost:8080/"
        },
        "id": "CCU2cm5_913J",
        "outputId": "68399560-5bfd-4b9c-d4fc-218c28d360a0"
      },
      "execution_count": 15,
      "outputs": [
        {
          "output_type": "stream",
          "name": "stdout",
          "text": [
            "enter string: hai\n",
            "reverse string:  iah\n",
            "the string is not palindrome\n"
          ]
        }
      ]
    },
    {
      "cell_type": "code",
      "source": [
        "m1=['bangladesh','india','nepal','pakistan','usa']\n",
        "print (m1)\n",
        "m1.append('france')\n",
        "print(m1)\n",
        "m1.remove(\"pakistan\")\n",
        "print(m1)\n",
        "m1.reverse()\n",
        "print(m1)\n",
        "m1.append('canada')\n",
        "print(m1)\n",
        "len(m1)\n"
      ],
      "metadata": {
        "colab": {
          "base_uri": "https://localhost:8080/"
        },
        "id": "AVxCXsdyABke",
        "outputId": "a2fc5800-08a2-46ed-b1c0-6b9ab6001c58"
      },
      "execution_count": 16,
      "outputs": [
        {
          "output_type": "stream",
          "name": "stdout",
          "text": [
            "['bangladesh', 'india', 'nepal', 'pakistan', 'usa']\n",
            "['bangladesh', 'india', 'nepal', 'pakistan', 'usa', 'france']\n",
            "['bangladesh', 'india', 'nepal', 'usa', 'france']\n",
            "['france', 'usa', 'nepal', 'india', 'bangladesh']\n",
            "['france', 'usa', 'nepal', 'india', 'bangladesh', 'canada']\n"
          ]
        },
        {
          "output_type": "execute_result",
          "data": {
            "text/plain": [
              "6"
            ]
          },
          "metadata": {},
          "execution_count": 16
        }
      ]
    },
    {
      "cell_type": "code",
      "source": [],
      "metadata": {
        "id": "279R-F-tChVP"
      },
      "execution_count": null,
      "outputs": []
    }
  ]
}